{
 "cells": [
  {
   "cell_type": "code",
   "execution_count": null,
   "metadata": {},
   "outputs": [],
   "source": [
    "import sys\n",
    "sys.path.append('../src')"
   ]
  },
  {
   "cell_type": "code",
   "execution_count": null,
   "metadata": {},
   "outputs": [],
   "source": [
    "import scipy.stats as stats\n",
    "import numpy as np\n",
    "import pandas as pd\n",
    "import matplotlib.pyplot as plt\n",
    "import seaborn as sns\n",
    "sns.set()\n",
    "from utils import *"
   ]
  },
  {
   "cell_type": "code",
   "execution_count": null,
   "metadata": {},
   "outputs": [],
   "source": [
    "tweet_counts = tweets_data(mean=50, seed=484)"
   ]
  },
  {
   "cell_type": "markdown",
   "metadata": {},
   "source": [
    "## Discrete probability distributions\n",
    "\n",
    "So far we've dealt with counts data, i.e., integers. As you may have noticed in our generating function, we use the Poisson distribution to describe the probability of drawing a particular value for the daily count. The Poisson distribution is a common one for describing count data. It has one parameter, usually denoted lambda, which is both the mean and variance of the distribution.\n",
    "\n",
    "There are other discrete probability distributions including uniform (values equally probable over a specified range) and the Binomial distribution which describes a series of binary outcomes such as coin flips. There is a list of the discrete distributions available in SciPy [here](https://docs.scipy.org/doc/scipy/reference/tutorial/stats/discrete.html).\n",
    "\n",
    "How the probabilty is distributed over the possible values is called the Probability Mass Function (PMF).\n"
   ]
  },
  {
   "cell_type": "code",
   "execution_count": null,
   "metadata": {},
   "outputs": [],
   "source": [
    "sns.barplot(x=np.arange(0, 20), y=stats.binom.pmf(np.arange(20), 20, 0.5))"
   ]
  },
  {
   "cell_type": "markdown",
   "metadata": {},
   "source": [
    "## Continuous probability distributions\n",
    "\n",
    "The analog of the PMF for a distribution containing real numbers is the probability density function (PDF). By far the most often used continuous PDF must be the Gaussian a.k.a., Normal distribution. The Gaussian has some very nice mathematical properties and describes the classic \"bell curve\" shape."
   ]
  },
  {
   "cell_type": "code",
   "execution_count": null,
   "metadata": {},
   "outputs": [],
   "source": [
    "ax = sns.histplot(np.random.normal(size=10000))"
   ]
  },
  {
   "cell_type": "markdown",
   "metadata": {},
   "source": [
    "The normal distribution is centrally peaked and symmetric without data very far from the mean (no \"long tails\")\n",
    "\n",
    "However, often you will have data that could be classified as outliers under this distribution or perhaps the data is drawn from a distribution where it is more likely for values to be far from the mean."
   ]
  },
  {
   "cell_type": "code",
   "execution_count": null,
   "metadata": {},
   "outputs": [],
   "source": [
    "ax = sns.histplot(\n",
    "    x = np.random.standard_cauchy(size=10000), \n",
    "    bins=np.linspace(-4,4,25),\n",
    ")\n",
    "ax.set_xlim(-4,4)"
   ]
  },
  {
   "cell_type": "markdown",
   "metadata": {},
   "source": [
    "## Exercise: Exploring more continuous distributions\n",
    "\n",
    "Using those available in `np.random` and `scipy.stats`, see what parameters define the distribution, generate some random variates from it, plot those values and calculate summary statistics. How likely is it to be far from the mean? Is the distribution symmetric?"
   ]
  },
  {
   "cell_type": "code",
   "execution_count": null,
   "metadata": {},
   "outputs": [],
   "source": []
  },
  {
   "cell_type": "markdown",
   "metadata": {},
   "source": [
    "## Digression: The meaning of probability\n",
    "\n",
    "[Frequentism vs. Bayesianism](https://jakevdp.github.io/blog/2014/03/11/frequentism-and-bayesianism-a-practical-intro/)"
   ]
  },
  {
   "cell_type": "code",
   "execution_count": null,
   "metadata": {},
   "outputs": [],
   "source": []
  },
  {
   "cell_type": "markdown",
   "metadata": {},
   "source": [
    "## Linear models: assumptions"
   ]
  },
  {
   "cell_type": "markdown",
   "metadata": {},
   "source": [
    "[Assumptions for Linear Models](https://www.analyticsvidhya.com/blog/2016/07/deeper-regression-analysis-assumptions-plots-solutions/)"
   ]
  },
  {
   "cell_type": "code",
   "execution_count": null,
   "metadata": {},
   "outputs": [],
   "source": []
  }
 ],
 "metadata": {
  "kernelspec": {
   "display_name": "Python 3 (ipykernel)",
   "language": "python",
   "name": "python3"
  },
  "language_info": {
   "codemirror_mode": {
    "name": "ipython",
    "version": 3
   },
   "file_extension": ".py",
   "mimetype": "text/x-python",
   "name": "python",
   "nbconvert_exporter": "python",
   "pygments_lexer": "ipython3",
   "version": "3.10.8"
  }
 },
 "nbformat": 4,
 "nbformat_minor": 4
}
