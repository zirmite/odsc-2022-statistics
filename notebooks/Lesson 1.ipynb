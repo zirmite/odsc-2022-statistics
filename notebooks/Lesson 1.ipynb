{
 "cells": [
  {
   "cell_type": "code",
   "execution_count": null,
   "metadata": {},
   "outputs": [],
   "source": [
    "import sys\n",
    "sys.path.append('../src')"
   ]
  },
  {
   "cell_type": "code",
   "execution_count": null,
   "metadata": {},
   "outputs": [],
   "source": [
    "import pandas as pd\n",
    "import numpy as np\n",
    "from scipy import stats\n",
    "\n",
    "import seaborn as sns\n",
    "sns.set()"
   ]
  },
  {
   "cell_type": "markdown",
   "metadata": {},
   "source": [
    "## Exploratory Data Analysis\n",
    "\n",
    "When you would like to use data, particularly data you haven't worked with before, there are a few things you should do first. \n",
    "\n",
    "+ what are the values of various summary statistics (mean, variance, etc…)?\n",
    "+ how is the data distributed?\n",
    "+ are there outliers?\n",
    "+ do some data points have null/NaN values? how might we deal with those?\n",
    "\n",
    "In this lesson we will talk about a few different approaches to exploratory data analysis (EDA). EDA is essential for you to discover the character of your data, the relationships between variables, and the potential problems inherent in the dataset.\n",
    "\n",
    "The data we will be working with are either generated using functions or are contained within CSV files in this repo."
   ]
  },
  {
   "cell_type": "markdown",
   "metadata": {},
   "source": [
    "Here we import a function called `counts_data` from our `utils` library"
   ]
  },
  {
   "cell_type": "code",
   "execution_count": null,
   "metadata": {},
   "outputs": [],
   "source": [
    "from utils import counts_data\n",
    "\n",
    "sample_mean = 100\n",
    "samples = counts_data(mean=sample_mean)"
   ]
  },
  {
   "cell_type": "markdown",
   "metadata": {},
   "source": [
    "### What is in `samples` now?"
   ]
  },
  {
   "cell_type": "code",
   "execution_count": null,
   "metadata": {},
   "outputs": [],
   "source": [
    "# how much data are in there?\n",
    "display(samples.shape)"
   ]
  },
  {
   "cell_type": "code",
   "execution_count": null,
   "metadata": {},
   "outputs": [],
   "source": [
    "display(samples.mean())"
   ]
  },
  {
   "cell_type": "code",
   "execution_count": null,
   "metadata": {},
   "outputs": [],
   "source": [
    "display(samples.var())\n",
    "display(samples.std())"
   ]
  },
  {
   "cell_type": "markdown",
   "metadata": {},
   "source": [
    "[Moments of a Distribution](https://en.wikipedia.org/wiki/Moment_(mathematics))"
   ]
  },
  {
   "cell_type": "code",
   "execution_count": null,
   "metadata": {},
   "outputs": [],
   "source": [
    "display(samples.describe())"
   ]
  },
  {
   "cell_type": "code",
   "execution_count": null,
   "metadata": {},
   "outputs": [],
   "source": [
    "display(stats.skew(samples))\n",
    "display(stats.kurtosis(samples))"
   ]
  },
  {
   "cell_type": "code",
   "execution_count": null,
   "metadata": {},
   "outputs": [],
   "source": [
    "bins = np.linspace(0.5*sample_mean, 1.5*sample_mean, 35)\n",
    "samples = counts_data(mean=sample_mean, seed=None)\n",
    "ax = sns.distplot(\n",
    "    samples, \n",
    "    bins=bins, \n",
    "    rug=True,\n",
    "    color='midnightblue',\n",
    ")\n",
    "ax.axis([\n",
    "    0.5*sample_mean,\n",
    "    1.5*sample_mean,\n",
    "    0,\n",
    "    0.05\n",
    "])\n",
    "_ = ax.set_xlabel('Value')\n",
    "_ = ax.set_ylabel('Density/Counts')\n",
    "_ = ax.set_title('Distribution of Counts Data')"
   ]
  },
  {
   "cell_type": "code",
   "execution_count": null,
   "metadata": {},
   "outputs": [],
   "source": [
    "counts_data??"
   ]
  },
  {
   "cell_type": "code",
   "execution_count": null,
   "metadata": {},
   "outputs": [],
   "source": [
    "from utils import counts_data_nan"
   ]
  },
  {
   "cell_type": "code",
   "execution_count": null,
   "metadata": {},
   "outputs": [],
   "source": []
  }
 ],
 "metadata": {
  "kernelspec": {
   "display_name": "Python 3",
   "language": "python",
   "name": "python3"
  },
  "language_info": {
   "codemirror_mode": {
    "name": "ipython",
    "version": 3
   },
   "file_extension": ".py",
   "mimetype": "text/x-python",
   "name": "python",
   "nbconvert_exporter": "python",
   "pygments_lexer": "ipython3",
   "version": "3.8.2"
  }
 },
 "nbformat": 4,
 "nbformat_minor": 4
}
