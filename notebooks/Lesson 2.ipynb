{
 "cells": [
  {
   "cell_type": "code",
   "execution_count": null,
   "metadata": {},
   "outputs": [],
   "source": [
    "import sys\n",
    "sys.path.append('../src')"
   ]
  },
  {
   "cell_type": "code",
   "execution_count": null,
   "metadata": {},
   "outputs": [],
   "source": [
    "import pandas as pd\n",
    "import numpy as np\n",
    "from scipy import stats\n",
    "from utils import *\n",
    "from itertools import repeat\n",
    "\n",
    "import seaborn as sns\n",
    "from seaborn import FacetGrid\n",
    "sns.set()"
   ]
  },
  {
   "cell_type": "markdown",
   "metadata": {},
   "source": [
    "## Statistical significance and hypothesis testing\n",
    "\n",
    "Often we will want to make a distinction between two (or more) hypotheses based on data. We want to know whether one hypothesis is more likely than another based on the data we have. \n",
    "\n",
    "A statistical hypothesis test usually compares the observed results with those that would occur under the so-called \"null hypothesis.\" This hypothesis posits, for example, that the data for the test and control groups are identical or that the differences in the results can be solely ascribed to random fluctuations rather than underlying effects.\n",
    "\n",
    "Let's revisit our dataset from the previous lesson."
   ]
  },
  {
   "cell_type": "code",
   "execution_count": null,
   "metadata": {},
   "outputs": [],
   "source": [
    "tweets_data??"
   ]
  },
  {
   "cell_type": "code",
   "execution_count": null,
   "metadata": {},
   "outputs": [],
   "source": [
    "tweet_counts = tweets_data(mean=50, size=1000, seed=484, wknd_offset=0.02)"
   ]
  },
  {
   "cell_type": "code",
   "execution_count": null,
   "metadata": {},
   "outputs": [],
   "source": [
    "sample_mean = tweet_counts.mean()\n",
    "bins = np.linspace(0.5*sample_mean, 1.5*sample_mean, 25)\n",
    "weekend_msk = tweet_counts.index.map(lambda x: x.dayofweek in (5,6)).values\n",
    "weekday_msk = tweet_counts.index.map(lambda x: x.dayofweek not in (5,6)).values\n",
    "twoday_msk = tweet_counts.index.map(lambda x: x.dayofweek in (2,3)).values\n",
    "ax = sns.histplot(\n",
    "    tweet_counts, \n",
    "    bins=bins, \n",
    "    color='midnightblue',\n",
    ")\n",
    "ax = sns.histplot(\n",
    "    tweet_counts[weekend_msk],\n",
    "    bins=bins,\n",
    "    color='goldenrod',\n",
    "    ax=ax,\n",
    ")\n",
    "_ = ax.set_xlabel('Tweets / Day')\n",
    "_ = ax.set_ylabel('Number of Days with that count')\n",
    "_ = ax.set_title('Distribution of Daily Tweet Count')"
   ]
  },
  {
   "cell_type": "markdown",
   "metadata": {},
   "source": [
    "It looks like the weekdays have a lower mean than the weekends, perhaps? How can we decide if that is a significant difference or not?"
   ]
  },
  {
   "cell_type": "code",
   "execution_count": null,
   "metadata": {},
   "outputs": [],
   "source": [
    "display(tweet_counts[weekend_msk].describe())\n",
    "display(tweet_counts[np.logical_not(weekend_msk)].describe())"
   ]
  },
  {
   "cell_type": "markdown",
   "metadata": {},
   "source": [
    "The means do differ but by less than either distribution's standard deviation. The two histograms are completely overlapping."
   ]
  },
  {
   "cell_type": "markdown",
   "metadata": {},
   "source": [
    "## Statistical Tests\n",
    "\n",
    "A statistical test consists of a test statistic and its distribution. The general procedure is to calculate the statistic and then see what fraction of the distribution has more extreme values of the statistic.\n",
    "\n",
    "Let's use our tweet data as an example and run the two-sample t-test to determine whether the observed difference in means is significant."
   ]
  },
  {
   "cell_type": "code",
   "execution_count": null,
   "metadata": {},
   "outputs": [],
   "source": [
    "stats.ttest_ind(tweet_counts[np.logical_not(weekend_msk)], tweet_counts[weekend_msk])"
   ]
  },
  {
   "cell_type": "code",
   "execution_count": null,
   "metadata": {},
   "outputs": [],
   "source": [
    "sample_sizes = [5, 10, 25, 50, 100]\n",
    "for sample_size in sample_sizes:\n",
    "    print(f\"{sample_size} points from each: \", stats.ttest_ind(\n",
    "        tweet_counts[np.logical_not(weekend_msk)].sample(sample_size), \n",
    "        tweet_counts[weekend_msk].sample(sample_size)\n",
    "    ))"
   ]
  },
  {
   "cell_type": "markdown",
   "metadata": {},
   "source": [
    "For all but the smallest samples, we find that it is very unlikely (< 5% chance) that the two samples have the same mean.\n",
    "\n",
    "[When to use which statistical test](https://www.scribbr.com/statistics/statistical-tests/)\n",
    "\n",
    "We can also look at the difference of means in a less formal way using random number generation."
   ]
  },
  {
   "cell_type": "markdown",
   "metadata": {},
   "source": [
    "## Hacker method\n",
    "\n",
    "We have a set of data and we can generate new realizations of that data by randomly choosing elements with replacement. This is called bootstrapping."
   ]
  },
  {
   "cell_type": "code",
   "execution_count": null,
   "metadata": {},
   "outputs": [],
   "source": [
    "def mean_bootstrap(data):\n",
    "    return data.sample(frac=0.75, replace=True).mean()"
   ]
  },
  {
   "cell_type": "code",
   "execution_count": null,
   "metadata": {},
   "outputs": [],
   "source": [
    "n_bootstraps = 1000\n",
    "\n",
    "n_weekday = weekday_msk.sum()\n",
    "weekday_means = np.zeros(n_bootstraps)\n",
    "for i in range(n_bootstraps):\n",
    "    weekday_means[i] = mean_bootstrap(tweet_counts[weekday_msk])\n",
    "    \n",
    "n_weekend = weekend_msk.sum()\n",
    "weekend_means = np.zeros(n_bootstraps)\n",
    "for i in range(n_bootstraps):\n",
    "    weekend_means[i] = mean_bootstrap(tweet_counts[weekend_msk])"
   ]
  },
  {
   "cell_type": "code",
   "execution_count": null,
   "metadata": {},
   "outputs": [],
   "source": [
    "combined_list = list(zip(repeat('weekday'), weekday_means)) + list(zip(repeat('weekend'), weekend_means))\n",
    "\n",
    "df = pd.DataFrame(data=combined_list, columns=['day', 'means'])\n",
    "sns.histplot(data=df, x='means', hue='day', binwidth=0.25)"
   ]
  },
  {
   "cell_type": "markdown",
   "metadata": {},
   "source": [
    "The distribution of bootstrap samples do not overlap at all. "
   ]
  },
  {
   "cell_type": "markdown",
   "metadata": {},
   "source": [
    "The t-test is parametric and depends on assumptions about the data you are comparing. \n",
    "\n",
    "There are also non-parametric tests which are useful for cases where the data may not meet those assumptions.\n",
    "\n",
    "An example of a non-parametric test is the Kolmogorov–Smirnov test which uses the cumulative distribution of the data and either a reference distribution or another dataset."
   ]
  },
  {
   "cell_type": "code",
   "execution_count": null,
   "metadata": {},
   "outputs": [],
   "source": [
    "stats.ks_2samp(weekend_means, weekday_means)"
   ]
  },
  {
   "cell_type": "code",
   "execution_count": null,
   "metadata": {},
   "outputs": [],
   "source": [
    "stats.ks_2samp(tweet_counts[np.logical_not(weekend_msk)], tweet_counts[weekend_msk])"
   ]
  },
  {
   "cell_type": "code",
   "execution_count": null,
   "metadata": {},
   "outputs": [],
   "source": [
    "x_c, y_c = cumulative_d(tweet_counts)\n",
    "ax = sns.lineplot(x=x_c, y=y_c)"
   ]
  },
  {
   "cell_type": "markdown",
   "metadata": {},
   "source": [
    "## Exercise: regenerate the data with a smaller difference of means and re-run both of the above tests\n",
    "\n",
    "There is an argument to the `tweets_data` function called `wknd_offset`which is set to 0.1 by default, set this to a lower value and generate the data and bootstrap samples using new weekend/weekday masks as above. Then run both the t-test and the KS test on your new simulated data."
   ]
  },
  {
   "cell_type": "code",
   "execution_count": null,
   "metadata": {},
   "outputs": [],
   "source": []
  }
 ],
 "metadata": {
  "kernelspec": {
   "display_name": "Python 3 (ipykernel)",
   "language": "python",
   "name": "python3"
  },
  "language_info": {
   "codemirror_mode": {
    "name": "ipython",
    "version": 3
   },
   "file_extension": ".py",
   "mimetype": "text/x-python",
   "name": "python",
   "nbconvert_exporter": "python",
   "pygments_lexer": "ipython3",
   "version": "3.10.8"
  }
 },
 "nbformat": 4,
 "nbformat_minor": 4
}
